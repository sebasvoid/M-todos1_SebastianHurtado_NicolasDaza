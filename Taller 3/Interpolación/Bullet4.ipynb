{
  "metadata": {
    "language_info": {
      "codemirror_mode": {
        "name": "python",
        "version": 3
      },
      "file_extension": ".py",
      "mimetype": "text/x-python",
      "name": "python",
      "nbconvert_exporter": "python",
      "pygments_lexer": "ipython3",
      "version": "3.8"
    },
    "kernelspec": {
      "name": "python",
      "display_name": "Python (Pyodide)",
      "language": "python"
    }
  },
  "nbformat_minor": 4,
  "nbformat": 4,
  "cells": [
    {
      "cell_type": "code",
      "source": "import numpy as np\nimport sympy \nimport urllib\nimport pandas as pd\nurl = 'https://raw.githubusercontent.com/asegura4488/Database/main/MetodosComputacionalesReforma/Parabolico.csv'\ndata = urllib.request.urlopen(url)\n\nData = pd.read_csv(data,sep=',')\nX = np.float64(Data['X'])\nY = np.float64(Data['Y'])\ndef Lagrange(x,xi,j,n,a):\n    for i in range(n):\n        if i != j:\n            a *= (x - xi[i])/(xi[j]-xi[i])\n            \n    return a\ndef func(x,xi,yi):\n    Sum = 0.\n    n = len(xi)\n    for j in range(n):\n        Sum += yi[j]*Lagrange(x,xi,j,len(xi),1)   \n    return Sum\n\nx = sympy.Symbol('x')\ncomplete = sympy.expand(func(x,X,Y))\na=float(complete.coeff(x,2))\ndf= sympy.diff(complete)\ntheta = float(df.coeff(x,0))\nv0=float(np.sqrt(np.abs( 9.82 / ( a*2*(np.cos(theta)**2) ) )))\ngrad=(theta*180)/np.pi\nvelocidad=\"la velocidad es:\"+str(v0)\nangle=\"El angulo es:\"+str(grad)\nprint(velocidad, angle)",
      "metadata": {
        "trusted": true
      },
      "execution_count": null,
      "outputs": []
    },
    {
      "cell_type": "code",
      "source": "",
      "metadata": {},
      "execution_count": null,
      "outputs": []
    }
  ]
}