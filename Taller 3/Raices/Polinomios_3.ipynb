{
  "metadata": {
    "language_info": {
      "codemirror_mode": {
        "name": "python",
        "version": 3
      },
      "file_extension": ".py",
      "mimetype": "text/x-python",
      "name": "python",
      "nbconvert_exporter": "python",
      "pygments_lexer": "ipython3",
      "version": "3.8"
    },
    "kernelspec": {
      "name": "python",
      "display_name": "Python (Pyodide)",
      "language": "python"
    }
  },
  "nbformat_minor": 4,
  "nbformat": 4,
  "cells": [
    {
      "cell_type": "code",
      "source": "import matplotlib.pyplot as plt\nfrom matplotlib import rc\nimport sympy as sym\n\nc=2\nx = sym.Symbol('x',Real=True)\nfunc = ((3*(x**5))+(5*(x**4))-(1*(x**3)))\nf = sym.lambdify([x],func,'numpy')\nh = 0.01\ndef Deriv(f,x,h):\n    return (f(x+h)-f(x-h))/(2*h)\ndef Raiz_NewtonR(xi,f,df,h2):\n    N = 0\n    lista=[]\n    while N<5:\n        xn1= xi - (f(xi))/df(f,xi,h)\n        if f(xn1)==0 and xn1-xi<h2:\n            N+=1\n            lista.append(xn1)\n        xi=xn1\n           \n    return lista\nprint(Raiz_NewtonR(1,f,Deriv,h))\n",
      "metadata": {
        "trusted": true
      },
      "execution_count": 1,
      "outputs": [
        {
          "name": "stdout",
          "text": "[0.18046042171636995, 0.18046042171636995, 0.18046042171636995, 0.18046042171636995, 0.18046042171636995]\n",
          "output_type": "stream"
        }
      ]
    },
    {
      "cell_type": "code",
      "source": "",
      "metadata": {},
      "execution_count": null,
      "outputs": []
    }
  ]
}