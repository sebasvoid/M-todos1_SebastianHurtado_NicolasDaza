{
  "metadata": {
    "language_info": {
      "codemirror_mode": {
        "name": "python",
        "version": 3
      },
      "file_extension": ".py",
      "mimetype": "text/x-python",
      "name": "python",
      "nbconvert_exporter": "python",
      "pygments_lexer": "ipython3",
      "version": "3.8"
    },
    "kernelspec": {
      "name": "python",
      "display_name": "Python (Pyodide)",
      "language": "python"
    }
  },
  "nbformat_minor": 4,
  "nbformat": 4,
  "cells": [
    {
      "cell_type": "code",
      "source": "import numpy as np\nimport random \nimport matplotlib.pyplot as plt\n\ngroup=[]\nfor i in range(0,81):\n    der=(np.math.factorial(365))/((365**i)*(np.math.factorial(365-i)))\n    group.append(der)\nfig = plt.figure(figsize=(5,5))\nax = fig.add_subplot(1,1,1)\nax.set_title('La Paradoja del Cumpleaños')\nax.set_xlabel('Numero de Personas')\nax.set_ylabel(\"Probabilidad*100 (para NO coincidir)\")\nax.plot(range(0,81),group,lw=3)",
      "metadata": {
        "trusted": true
      },
      "execution_count": null,
      "outputs": []
    },
    {
      "cell_type": "code",
      "source": "",
      "metadata": {},
      "execution_count": null,
      "outputs": []
    }
  ]
}