{
  "metadata": {
    "language_info": {
      "codemirror_mode": {
        "name": "python",
        "version": 3
      },
      "file_extension": ".py",
      "mimetype": "text/x-python",
      "name": "python",
      "nbconvert_exporter": "python",
      "pygments_lexer": "ipython3",
      "version": "3.8"
    },
    "kernelspec": {
      "name": "python",
      "display_name": "Python (Pyodide)",
      "language": "python"
    }
  },
  "nbformat_minor": 4,
  "nbformat": 4,
  "cells": [
    {
      "cell_type": "code",
      "source": "\"\"\"Virtual Laboratory\"\"\"\nimport numpy as np\nimport matplotlib.pyplot as plt\nimport random as rnd\n\ntotal=0\nN=1e5\nlista=[]\nfor i in range (int(N)):\n    m1=np.random.choice([-1,1])\n    m2=np.random.choice([-1,1])\n    m3=np.random.choice([-1,1])\n    m4=np.random.choice([-1,1])\n    lista.append(m1,m2,m3,m3)\n    suma=sum(lista)\n    if suma == 0: \n        total+=1\nprob=total/N\n",
      "metadata": {},
      "execution_count": null,
      "outputs": []
    }
  ]
}