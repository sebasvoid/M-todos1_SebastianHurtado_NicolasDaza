{
  "metadata": {
    "language_info": {
      "codemirror_mode": {
        "name": "python",
        "version": 3
      },
      "file_extension": ".py",
      "mimetype": "text/x-python",
      "name": "python",
      "nbconvert_exporter": "python",
      "pygments_lexer": "ipython3",
      "version": "3.8"
    },
    "kernelspec": {
      "name": "python",
      "display_name": "Python (Pyodide)",
      "language": "python"
    }
  },
  "nbformat_minor": 4,
  "nbformat": 4,
  "cells": [
    {
      "cell_type": "code",
      "source": "import numpy as np\nimport matplotlib.pyplot as plt\nx= np.linspace(-10,10,200)\nh= x[0] - x[1]\nprint(h)\nfuncion= lambda x: (1/((1+np.e**-(x**2))**(1/2)))\n\nmascara=[1,-2,1]\n\ndef Segunda_derivadaC (x,f,h):\n    return (f(x+h)-(2*f(x))+f(x-h))/h**2\n\ndef derivada_segunda_kernel(x,M,h,funcion):\n    matriz=[]\n    a=0\n    for a in range(0,len(x)):\n       \n        if a < len(x)-1:\n            dato1=M[0]*funcion(x[a+1])\n        else:\n            dato1=M[0]*funcion(x[0])\n           \n        dato2=M[1]*funcion(x[a])\n        dato3=M[0]*funcion(x[a-1])\n        suma=dato1+dato2+dato3\n        valor_derivada=(1/(h**2))*suma\n        matriz.append(valor_derivada)\n       \n       \n    print(len(x))    \n    plt.scatter(x,matriz,color='g')\n   \n    return matriz\n\n\"\"\"GRAFICAS \"\"\"\n\n\"\"\" DERIVADA POR FUNCION\"\"\"\nderivada1=derivada_segunda_kernel(x,mascara,h, funcion)\n\nplt.scatter(x,derivada1,color=\"r\")\n\n\"\"\"DERIVADA POR MASCARA\"\"\"\n\nderivada2=Segunda_derivadaC(x, funcion, h)\n\n#plt.scatter(x,derivada2,color='g')\n",
      "metadata": {
        "trusted": true
      },
      "execution_count": null,
      "outputs": []
    },
    {
      "cell_type": "code",
      "source": "",
      "metadata": {},
      "execution_count": null,
      "outputs": []
    }
  ]
}