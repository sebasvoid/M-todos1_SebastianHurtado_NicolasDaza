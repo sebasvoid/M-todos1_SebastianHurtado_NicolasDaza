{
  "metadata": {
    "language_info": {
      "codemirror_mode": {
        "name": "python",
        "version": 3
      },
      "file_extension": ".py",
      "mimetype": "text/x-python",
      "name": "python",
      "nbconvert_exporter": "python",
      "pygments_lexer": "ipython3",
      "version": "3.8"
    },
    "kernelspec": {
      "name": "python",
      "display_name": "Python (Pyodide)",
      "language": "python"
    }
  },
  "nbformat_minor": 4,
  "nbformat": 4,
  "cells": [
    {
      "cell_type": "code",
      "source": "import numpy as np\nimport matplotlib.pyplot as plt\nx=np.linspace(-10,10)\nfun = lambda x: (1+((np.e)**(-(x**(2)))))**(-1/2)\nf = fun\nh=(0.05)\ndef DerivativeC(x,f,h):\n    return (f(x+h)-f(x-h))/(2*h)\ndef ErrorLocal(h):\n    error=h**2\n    return error\n\nErrorLocal(h),DerivativeC(x,f,h)",
      "metadata": {
        "trusted": true
      },
      "execution_count": 12,
      "outputs": [
        {
          "execution_count": 12,
          "output_type": "execute_result",
          "data": {
            "text/plain": "(0.0025000000000000005,\n array([ 0.00000000e+00,  0.00000000e+00,  0.00000000e+00,  0.00000000e+00,\n         0.00000000e+00,  0.00000000e+00,  0.00000000e+00,  0.00000000e+00,\n         0.00000000e+00,  0.00000000e+00, -3.33066907e-15, -3.76365605e-13,\n        -2.63211675e-11, -1.31126665e-09, -4.64851591e-08, -1.17086939e-06,\n        -2.09117062e-05, -2.64057466e-04, -2.34569329e-03, -1.44809213e-02,\n        -5.99815664e-02, -1.54490188e-01, -2.28568824e-01, -1.91790485e-01,\n        -7.13341697e-02,  7.13341697e-02,  1.91790485e-01,  2.28568824e-01,\n         1.54490188e-01,  5.99815664e-02,  1.44809213e-02,  2.34569329e-03,\n         2.64057466e-04,  2.09117062e-05,  1.17086939e-06,  4.64851591e-08,\n         1.31126665e-09,  2.63211675e-11,  3.76365605e-13,  3.33066907e-15,\n         0.00000000e+00,  0.00000000e+00,  0.00000000e+00,  0.00000000e+00,\n         0.00000000e+00,  0.00000000e+00,  0.00000000e+00,  0.00000000e+00,\n         0.00000000e+00,  0.00000000e+00]))"
          },
          "metadata": {}
        }
      ]
    },
    {
      "cell_type": "code",
      "source": "",
      "metadata": {},
      "execution_count": null,
      "outputs": []
    }
  ]
}