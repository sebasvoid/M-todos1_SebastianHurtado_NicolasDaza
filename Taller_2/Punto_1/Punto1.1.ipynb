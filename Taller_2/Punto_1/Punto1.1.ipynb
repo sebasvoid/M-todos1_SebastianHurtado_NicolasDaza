{
  "metadata": {
    "language_info": {
      "codemirror_mode": {
        "name": "python",
        "version": 3
      },
      "file_extension": ".py",
      "mimetype": "text/x-python",
      "name": "python",
      "nbconvert_exporter": "python",
      "pygments_lexer": "ipython3",
      "version": "3.8"
    },
    "kernelspec": {
      "name": "python",
      "display_name": "Python (Pyodide)",
      "language": "python"
    }
  },
  "nbformat_minor": 4,
  "nbformat": 4,
  "cells": [
    {
      "cell_type": "code",
      "source": "\nimport numpy as np\nimport matplotlib.pyplot as plt\n#Se define un rango de barrido\nx = np.linspace(0,2*np.pi)\nh  = x[1]-x[0]\n#se define la funcion\nsin = lambda x: np.sin(x)\nf=sin\n#se usa la formula de derivación doble\ndef doubleder(x,f,h,a):\n    array=[]\n    for i in x:\n        dob=((f(i+2)-2*f(i)+f(i-2))/(4*(h**2)))/a\n        array.append(dob)\n    return array\n#se grafica la segunda derivada y la formula de derivacion doble para que coincidan\nplt.plot(x, -np.sin(x))\nplt.plot(x,doubleder(x, f, h,40))",
      "metadata": {
        "trusted": true
      },
      "execution_count": null,
      "outputs": []
    },
    {
      "cell_type": "code",
      "source": "",
      "metadata": {},
      "execution_count": null,
      "outputs": []
    },
    {
      "cell_type": "code",
      "source": "",
      "metadata": {},
      "execution_count": null,
      "outputs": []
    }
  ]
}