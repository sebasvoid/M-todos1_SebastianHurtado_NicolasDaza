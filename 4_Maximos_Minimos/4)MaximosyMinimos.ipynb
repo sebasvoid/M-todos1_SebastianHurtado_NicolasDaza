{
  "metadata": {
    "language_info": {
      "codemirror_mode": {
        "name": "python",
        "version": 3
      },
      "file_extension": ".py",
      "mimetype": "text/x-python",
      "name": "python",
      "nbconvert_exporter": "python",
      "pygments_lexer": "ipython3",
      "version": "3.8"
    },
    "kernelspec": {
      "name": "python",
      "display_name": "Python (Pyodide)",
      "language": "python"
    }
  },
  "nbformat_minor": 4,
  "nbformat": 4,
  "cells": [
    {
      "cell_type": "code",
      "source": "#creado por Nicolas Daza & Sebastian Hurtado\nfrom urllib.request import urlopen\nimport numpy as np\nimport matplotlib.pyplot as plt\nr=urlopen('https://raw.githubusercontent.com/asegura4488/Database/main/MetodosComputacionalesReforma/EstrellaEspectro.txt')\nf=r.read()\nstring=f.decode()\ncoor=string.split()\nn=len(coor)\nmatriz=np.zeros((int(n/2),2))\nfor i in range(0,n):\n    p=int(i/2)\n    if i%2==0:\n        matriz[p,0]=float(coor[i])\n    else:\n        matriz[p,1]=float(coor[i])\nmaximos=[]  \nposicion=[]    \nfor x in range(1,(len(matriz)-1)):\n    n1=matriz[(x-1,1)]\n    n2= matriz[x,1]\n    m1= matriz[x,0]\n    n3=matriz[(x+1,1)]\n   \n   \n    if n1<n2 and n2>n3:\n        maximos.append(n2)\n        posicion.append(m1)\n\nmatriz_puntos=np.zeros((len(maximos),2))\nfor x in range(0,len(maximos)):\n    matriz_puntos[x,0]=posicion[x]\n    matriz_puntos[x,1]=maximos[x]\nplt.scatter(matriz_puntos[:,0],matriz_puntos[:,1],color='r')\nplt.plot(matriz[:,0],matriz[:,1],color='b')\n\n",
      "metadata": {},
      "execution_count": null,
      "outputs": []
    }
  ]
}