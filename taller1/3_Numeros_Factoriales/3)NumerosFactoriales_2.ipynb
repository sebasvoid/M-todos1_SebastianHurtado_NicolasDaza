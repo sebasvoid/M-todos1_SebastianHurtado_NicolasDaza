{
  "metadata": {
    "language_info": {
      "codemirror_mode": {
        "name": "python",
        "version": 3
      },
      "file_extension": ".py",
      "mimetype": "text/x-python",
      "name": "python",
      "nbconvert_exporter": "python",
      "pygments_lexer": "ipython3",
      "version": "3.8"
    },
    "kernelspec": {
      "name": "python",
      "display_name": "Python (Pyodide)",
      "language": "python"
    }
  },
  "nbformat_minor": 4,
  "nbformat": 4,
  "cells": [
    {
      "cell_type": "code",
      "source": "#Creado por Nicolas Daza & Sebastian Hurtado\ndef factorial(n:int):\n    numero=1\n    for i in range(1,n+1):\n        numero*=i\n    return numero\ndef variaciones(n:int,r:int):\n    number=(n-r)\n    factorial1=factorial(n)\n    factorial2=factorial(number)\n    finalfacto=(factorial1)/(factorial2)\n    return finalfacto\nprint(variaciones(6,3))\n    ",
      "metadata": {
        "trusted": true
      },
      "execution_count": 1,
      "outputs": [
        {
          "name": "stdout",
          "text": "120.0\n",
          "output_type": "stream"
        }
      ]
    },
    {
      "cell_type": "code",
      "source": "",
      "metadata": {},
      "execution_count": null,
      "outputs": []
    }
  ]
}