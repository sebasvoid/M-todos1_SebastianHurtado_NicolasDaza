{
  "metadata": {
    "language_info": {
      "codemirror_mode": {
        "name": "python",
        "version": 3
      },
      "file_extension": ".py",
      "mimetype": "text/x-python",
      "name": "python",
      "nbconvert_exporter": "python",
      "pygments_lexer": "ipython3",
      "version": "3.8"
    },
    "kernelspec": {
      "name": "python",
      "display_name": "Python (Pyodide)",
      "language": "python"
    }
  },
  "nbformat_minor": 4,
  "nbformat": 4,
  "cells": [
    {
      "cell_type": "code",
      "source": "#creado por Nicolas Daza & Sebastian Hurtado\nimport matplotlib.pyplot as ptl\nimport numpy as np\ndef figuras_de_lissajous(N:int,A1:int,A2:int,ciclos:int):\n    ciclo=ciclos*np.pi\n    matriz=np.zeros((N,2))\n    desfases=[0,np.pi/4,np.pi/2]\n    w1=1\n    w2=1\n    control_fi=0\n    while control_fi !=3:\n        if w1 <= 5 and w2 <=5:\n            for i in range(0,len(matriz)):\n                theta=ciclo/(i+1)\n                x=A1*np.sin(w1*theta)\n                y=A2*np.sin(w2*theta + desfases[control_fi])\n                matriz[i,0]=x\n                matriz[i,1]=y\n               \n           \n            if w2 < 5:\n                w2 += 1\n            else:\n                w1+=1\n                w2=w1\n        else:\n            w1=1\n            w2=1\n            control_fi +=1\n        ptl.scatter(matriz[:,0],matriz[:,1])\n        ptl.axis('off')\n        ptl.show()\n    return None\n\nprint(figuras_de_lissajous(5000, 1, 1, 5000))",
      "metadata": {},
      "execution_count": null,
      "outputs": []
    }
  ]
}