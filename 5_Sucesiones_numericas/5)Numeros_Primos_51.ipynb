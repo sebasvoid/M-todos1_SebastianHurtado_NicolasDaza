{
  "metadata": {
    "language_info": {
      "codemirror_mode": {
        "name": "python",
        "version": 3
      },
      "file_extension": ".py",
      "mimetype": "text/x-python",
      "name": "python",
      "nbconvert_exporter": "python",
      "pygments_lexer": "ipython3",
      "version": "3.8"
    },
    "kernelspec": {
      "name": "python",
      "display_name": "Python (Pyodide)",
      "language": "python"
    }
  },
  "nbformat_minor": 4,
  "nbformat": 4,
  "cells": [
    {
      "cell_type": "code",
      "source": "#creado por Nicolas Daza & Sebastian Hurtado\nimport numpy as np\nimport matplotlib.pyplot as plt\n\ndef factorial(n:int):\n    numero=1\n    for i in range(1,n+1):\n        numero*=i\n    return numero\n\ndef primos(i:int):\n    \"\"\"Teorema de Wilson:\n    Un numero es primo si y solo si el factorial (n - 1)! + 1 es divisible por n.\"\"\"\n    lista=[]\n    r=1\n    while len(lista)<=i:\n        factor=int((factorial(r-1)))+1\n        if factor%r==0:\n            lista.append(r)\n        r+=1\n       \n    matriz=np.zeros((i+1,2))  \n   \n    for x in range (0,len(matriz)):\n        matriz[x,0]=x\n        matriz[x,1]=lista[x]\n   \n    plt.scatter(matriz[:,0],matriz[:,1],color='r')\n    plt.show()\n   \n   \n    return (lista, matriz)\nprint(primos(1000))\n\n",
      "metadata": {},
      "execution_count": null,
      "outputs": []
    }
  ]
}