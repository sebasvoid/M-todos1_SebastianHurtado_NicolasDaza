{
  "metadata": {
    "language_info": {
      "codemirror_mode": {
        "name": "python",
        "version": 3
      },
      "file_extension": ".py",
      "mimetype": "text/x-python",
      "name": "python",
      "nbconvert_exporter": "python",
      "pygments_lexer": "ipython3",
      "version": "3.8"
    },
    "kernelspec": {
      "name": "python",
      "display_name": "Python (Pyodide)",
      "language": "python"
    }
  },
  "nbformat_minor": 4,
  "nbformat": 4,
  "cells": [
    {
      "cell_type": "code",
      "source": "#Creado por Nicolas Daza & Sebastian Hurtado\ndef factorial(n:int):\n    numero=1\n    for i in range(1,n+1):\n        numero*=i\n    return numero\ndef variaciones(n:int,m:int):\n    number=(n-m)\n    factorial1=factorial(n)\n    factorial2=factorial(number)\n    factorial3=factorial(m)\n    finalfacto=(factorial1)/((factorial3)*(factorial2))\n    return finalfacto\nprint(variaciones(22,11))\nprint(variaciones(21,10))",
      "metadata": {
        "trusted": true
      },
      "execution_count": 7,
      "outputs": [
        {
          "name": "stdout",
          "text": "705432.0\n352716.0\n",
          "output_type": "stream"
        }
      ]
    },
    {
      "cell_type": "code",
      "source": "",
      "metadata": {},
      "execution_count": null,
      "outputs": []
    }
  ]
}