{
  "metadata": {
    "language_info": {
      "codemirror_mode": {
        "name": "python",
        "version": 3
      },
      "file_extension": ".py",
      "mimetype": "text/x-python",
      "name": "python",
      "nbconvert_exporter": "python",
      "pygments_lexer": "ipython3",
      "version": "3.8"
    },
    "kernelspec": {
      "name": "python",
      "display_name": "Python (Pyodide)",
      "language": "python"
    }
  },
  "nbformat_minor": 4,
  "nbformat": 4,
  "cells": [
    {
      "cell_type": "code",
      "source": "import numpy as np\nimport matplotlib.pyplot as plt\nx= np.linspace(-10,10,400)\nh= x[0] - x[1]\n\nfuncion= lambda x: (1/((1+np.e**-(x**2))**(1/2)))\n \ndef derivadaC (x,f,h):\n     return (f(x+h)-f(x-h))/(2*h)\n \nderivada1=derivadaC(x,funcion,h)\nplt.scatter(x,derivada1)\n\n\nmascara=[-1,0,1]\n\ndef derivada_kernel(x,M,h,funcion):\n    matriz=[]\n    a=0\n    for a in range(0,len(x)):\n       \n        if a < len(x)-1:\n            dato1=M[0]*funcion(x[a+1])\n        else:\n            dato1=M[0]*funcion(x[0])\n           \n        dato2=M[1]*funcion(x[a])\n        dato3=M[2]*funcion(x[a-1])\n        suma=dato1+dato2+dato3\n        valor_derivada=(1/(2*h))*suma\n        matriz.append(valor_derivada)\n       \n       \n     \n    plt.scatter(x,matriz)\n    return None\n\n\nprint(derivada_kernel(x,mascara,h, funcion))",
      "metadata": {
        "trusted": true
      },
      "execution_count": null,
      "outputs": []
    },
    {
      "cell_type": "code",
      "source": "",
      "metadata": {},
      "execution_count": null,
      "outputs": []
    }
  ]
}