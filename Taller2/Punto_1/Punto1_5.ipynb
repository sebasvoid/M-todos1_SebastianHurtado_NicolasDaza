{
  "metadata": {
    "language_info": {
      "codemirror_mode": {
        "name": "python",
        "version": 3
      },
      "file_extension": ".py",
      "mimetype": "text/x-python",
      "name": "python",
      "nbconvert_exporter": "python",
      "pygments_lexer": "ipython3",
      "version": "3.8"
    },
    "kernelspec": {
      "name": "python",
      "display_name": "Python (Pyodide)",
      "language": "python"
    }
  },
  "nbformat_minor": 4,
  "nbformat": 4,
  "cells": [
    {
      "cell_type": "code",
      "source": "import numpy as np\nimport matplotlib.pyplot as plt\n#Se define un rango de barrido\nx = np.linspace(0,2*np.pi)\nh  = x[1]-x[0]\n#se define la funcion\nsin = lambda x: np.sin(x)\nf=sin\n#se usa la formula de derivación cuadruple\ndef quadrader(x,f,h,a):\n    array=[]\n    for i in x:\n        quadra=((f(i+2)-4*f(i+1)+6*f(i)-4*f(i-1)+f(i-2))/((h**4)))/a\n        array.append(quadra)\n    return array\n#se grafica la cuarta derivada y la formula de derivacion cuadruple para que coincidan\nplt.plot(x, np.sin(x))\nplt.plot(x,quadrader(x, f, h,3000))",
      "metadata": {},
      "execution_count": null,
      "outputs": []
    }
  ]
}