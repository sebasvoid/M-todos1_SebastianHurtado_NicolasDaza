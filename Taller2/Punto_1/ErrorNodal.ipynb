{
  "metadata": {
    "language_info": {
      "codemirror_mode": {
        "name": "python",
        "version": 3
      },
      "file_extension": ".py",
      "mimetype": "text/x-python",
      "name": "python",
      "nbconvert_exporter": "python",
      "pygments_lexer": "ipython3",
      "version": "3.8"
    },
    "kernelspec": {
      "name": "python",
      "display_name": "Python (Pyodide)",
      "language": "python"
    }
  },
  "nbformat_minor": 4,
  "nbformat": 4,
  "cells": [
    {
      "cell_type": "code",
      "source": "import numpy as np\nimport matplotlib.pyplot as plt\nimport sympy as sym\n\nx=np.linspace(-10,10,1400)\n\nfun = lambda x: (1+((np.e)*(-(x(2)))))*(-1/2)\nf = fun\nh=(0.05)\n\n\ndef DerivativeC(x,f,h):\n    \n    return (f(x+h)-f(x-h))/(2*h)\n\n\n''' DERIVADA POR PYTHON'''\n\ny=sym.Symbol('y',Real=True)\n\nfuncion2 =(1+((np.e)*(-(y(2)))))*(-1/2)\n\nf_derivada=sym.diff(funcion2,y)\n\nf2 =  sym.lambdify([y],f_derivada,'numpy')\n\na=np.linspace(-10,10,1400)\n\n\n\ndef derivada_pthon(a,f):\n    data=[]\n    for i in a:\n        \n        datos=f(i)\n        data.append(datos)\n        \n    return data\n \n\necuacion=derivada_pthon(a,f2)\n\nderivada_central=DerivativeC(x,f,h)\nprint(ecuacion[1])\nprint(derivada_central[1])\n\n\n\n\ndef error(funcion1,funcion2):\n    diferencia=[]\n    for i in range(len(funcion1)):\n        error= abs(funcion1[i]-funcion2[i])\n        diferencia.append(error)\n        \n    return diferencia\n\n\nerror_nodal=error(derivada_central,ecuacion)\n\nfig=plt.figure(figsize=(6,5))\n\n\nax1=fig.add_subplot(1,3,1)\n\nax1.scatter(a,ecuacion,color='r')\nax2=fig.add_subplot(1,3,2)\nax2.scatter(x,DerivativeC(x,f,h))\nax3=fig.add_subplot(1,3,3)\nax3.scatter(x,error_nodal)\nprint(error_nodal)",
      "metadata": {},
      "execution_count": null,
      "outputs": []
    }
  ]
}