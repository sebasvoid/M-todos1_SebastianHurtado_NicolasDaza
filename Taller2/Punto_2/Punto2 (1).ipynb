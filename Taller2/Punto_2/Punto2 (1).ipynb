{
  "metadata": {
    "language_info": {
      "codemirror_mode": {
        "name": "python",
        "version": 3
      },
      "file_extension": ".py",
      "mimetype": "text/x-python",
      "name": "python",
      "nbconvert_exporter": "python",
      "pygments_lexer": "ipython3",
      "version": "3.8"
    },
    "kernelspec": {
      "name": "python",
      "display_name": "Python (Pyodide)",
      "language": "python"
    }
  },
  "nbformat_minor": 4,
  "nbformat": 4,
  "cells": [
    {
      "cell_type": "code",
      "source": "\nimport numpy as np\nimport matplotlib.pyplot as plt\n\nN=25\nr=2\nx = np.linspace(-4,4,N)\ny = np.linspace(-4,4,N)\nh = 0.001\ndef Potencial(x,y):\n    ad=1-((r**2)/((x**2)+(y**2)))\n    return 2*x*ad\n\ndef Dx(f,x,y,h):\n    return (f(x+h,y)-f(x-h,y))/(2*h)\ndef Dy(f,x,y,h):\n    return (f(x,y+h)-f(x,y-h))/(2*h)\n\n\nEx = np.zeros((N,N))\nEy = np.zeros((N,N))\n\n\n\nfor i in range(N):\n    for j in range(N):\n            Ex[i,j] = Dx(Potencial,x[i],y[j],h)\n            Ey[i,j] = -Dy(Potencial,x[i],y[j],h)\n        \n\n\nfor i in range(len(x)):\n    for j in range(len(y)):\n        if ((x[i])**2)+((y[j])**2)<(r**2):\n            Ex[i,j]=0\n            Ey[i,j]=0\n        \n        plt.quiver(x[i],y[j],Ex[i,j],Ey[i,j],color='b')\nplt.savefig('velocities.png')",
      "metadata": {
        "trusted": true
      },
      "execution_count": 1,
      "outputs": []
    },
    {
      "cell_type": "code",
      "source": "",
      "metadata": {},
      "execution_count": null,
      "outputs": []
    }
  ]
}