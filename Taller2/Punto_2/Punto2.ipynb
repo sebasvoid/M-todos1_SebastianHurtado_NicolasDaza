{
  "metadata": {
    "language_info": {
      "name": ""
    },
    "kernelspec": {
      "name": "",
      "display_name": ""
    }
  },
  "nbformat_minor": 4,
  "nbformat": 4,
  "cells": [
    {
      "cell_type": "code",
      "source": "\nimport numpy as np\nimport matplotlib.pyplot as plt\n\nN=25\nr=2\nx = np.linspace(-4,4,N)\ny = np.linspace(-4,4,N)\nh = 0.001\ndef Potencial(x,y):\n    ad=1-((r**2)/((x**2)+(y**2)))\n    return 2*x*ad\n\ndef Dx(f,x,y,h):\n    return (f(x+h,y)-f(x-h,y))/(2*h)\ndef Dy(f,x,y,h):\n    return (f(x,y+h)-f(x,y-h))/(2*h)\n\n\nEx = np.zeros((N,N))\nEy = np.zeros((N,N))\n\n\n\nfor i in range(N):\n    for j in range(N):\n        if i > -r and i < r:\n            if j > -r and j < r:\n                \n                Ex[i,j]=0\n                Ey[i,j]=0\n        else:\n            Ex[i,j] = Dx(Potencial,x[i],y[j],h)\n            Ey[i,j] = -Dy(Potencial,x[i],y[j],h)\n        \n\n\nfor i in range(len(x)):\n    for j in range(len(y)):\n        \n        plt.quiver(x[i],y[j],Ex[i,j],Ey[i,j],color='b')\n",
      "metadata": {},
      "execution_count": null,
      "outputs": []
    }
  ]
}