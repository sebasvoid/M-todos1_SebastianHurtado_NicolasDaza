{
  "metadata": {
    "language_info": {
      "codemirror_mode": {
        "name": "python",
        "version": 3
      },
      "file_extension": ".py",
      "mimetype": "text/x-python",
      "name": "python",
      "nbconvert_exporter": "python",
      "pygments_lexer": "ipython3",
      "version": "3.8"
    },
    "kernelspec": {
      "name": "python",
      "display_name": "Python (Pyodide)",
      "language": "python"
    }
  },
  "nbformat_minor": 4,
  "nbformat": 4,
  "cells": [
    {
      "cell_type": "code",
      "source": "import numpy as np\nimport matplotlib.pyplot as plt\nimport math as m\nimport sympy as sym\na,b,N,x=2,4,10000,np.random.uniform(0,1,size=int(10000))\ndef re(a,b,x):\n    f=m.factorial((a+b)-1)\n    i=(m.factorial(a-1)*m.factorial(b-1))\n    h=(x**(a-1))*(1-x)**(b-1)\n    return f*h/i\ny=np.random.uniform(0,max(re(a,b,x)),size=int(N))\nX=[]\ncount=0\nfor i in range(N):\n    if y[i] < re(a,b,x[i]):\n        X.append(x[i])\n        count+=1\n\nX=np.array(X)\ny = re(a,b,X)\narea=max(re(a,b,x))*count/N\nplt.scatter(X,y)\nx=sym.Symbol('x',real=True)\nF=m.factorial(5)/(m.factorial(1)*m.factorial(3))*(x)*(1-x)**(3)\nprint(sym.integrate(F,(x,0,1)))",
      "metadata": {
        "trusted": true
      },
      "execution_count": null,
      "outputs": []
    },
    {
      "cell_type": "code",
      "source": "",
      "metadata": {},
      "execution_count": null,
      "outputs": []
    },
    {
      "cell_type": "code",
      "source": "",
      "metadata": {},
      "execution_count": null,
      "outputs": []
    },
    {
      "cell_type": "code",
      "source": "",
      "metadata": {},
      "execution_count": null,
      "outputs": []
    },
    {
      "cell_type": "code",
      "source": "",
      "metadata": {},
      "execution_count": null,
      "outputs": []
    }
  ]
}