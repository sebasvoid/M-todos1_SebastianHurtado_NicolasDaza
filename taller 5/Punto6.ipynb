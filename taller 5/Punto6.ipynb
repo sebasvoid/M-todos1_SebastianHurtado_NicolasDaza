{
  "metadata": {
    "language_info": {
      "codemirror_mode": {
        "name": "python",
        "version": 3
      },
      "file_extension": ".py",
      "mimetype": "text/x-python",
      "name": "python",
      "nbconvert_exporter": "python",
      "pygments_lexer": "ipython3",
      "version": "3.8"
    },
    "kernelspec": {
      "name": "python",
      "display_name": "Python (Pyodide)",
      "language": "python"
    }
  },
  "nbformat_minor": 4,
  "nbformat": 4,
  "cells": [
    {
      "cell_type": "code",
      "source": "import numpy as np \nimport matplotlib.pyplot as plt\ndef randub(ub):\n    circle=2*np.pi\n    set1=np.random.rand()\n    set2=np.random.rand()\n    phi = np.arccos((2*set2)-1)\n    return ub*(np.cbrt(set1)),np.random.uniform(0,circle),phi\ndef Sphere(ub,N):\n    X = np.zeros(N)\n    Y = np.zeros_like(X)\n    Z = np.zeros_like(X)\n    for i in range(N):\n        r,theta,phi = randub(ub)\n        X[i] = r*np.sin(phi)*np.cos(theta)\n        Y[i] = r*np.sin(phi)*np.sin(theta)\n        Z[i] = r*np.cos(phi)\n    return X,Y,Z\nX,Y,Z = Sphere(1,10000)\ndef Integrate(X,Y,Z,f):\n    func = np.array([])\n    for i in range(len(X)):\n        func = np.append(func,f(X[i],Y[i],Z[i]))\n    return np.average(func)*(4/3)*np.pi\ndef function(x,y,z):\n    return np.exp(np.sqrt(x**2+y**2+z**2))\n\nmontecarlo = Integrate(X,Y,Z,function)\n\nfig = plt.figure(figsize=(8,8))\nax = fig.add_subplot(1,1,1, projection = '3d')\n\ndiferencia=np.abs(montecarlo -4*np.pi*(np.exp(1)-2))\nprint(montecarlo)\nprint(4*np.pi*(np.exp(1)-2))\nprint(diferencia)\n\n#configurar límites de los ejes\nax.set_xlim3d(-1, 1)\nax.set_ylim3d(-1, 1)\nax.set_zlim3d(-1, 1)\n\nax.view_init(20, 20)\nax.set_box_aspect([1,1,1])\n\nax.scatter(X,Y,Z,s=1,color='b')\n",
      "metadata": {
        "trusted": true
      },
      "execution_count": 10,
      "outputs": [
        {
          "name": "stdout",
          "text": "9.041176189362131\n9.02619566197592\n0.014980527386210696\n",
          "output_type": "stream"
        },
        {
          "execution_count": 10,
          "output_type": "execute_result",
          "data": {
            "text/plain": "<mpl_toolkits.mplot3d.art3d.Path3DCollection at 0x39c43e8>"
          },
          "metadata": {}
        }
      ]
    },
    {
      "cell_type": "code",
      "source": "",
      "metadata": {},
      "execution_count": null,
      "outputs": []
    }
  ]
}